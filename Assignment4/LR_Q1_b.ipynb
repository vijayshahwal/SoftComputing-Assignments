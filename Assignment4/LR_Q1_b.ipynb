{
 "cells": [
  {
   "cell_type": "code",
   "execution_count": 18,
   "id": "f2a853ad",
   "metadata": {},
   "outputs": [],
   "source": [
    "import numpy as np"
   ]
  },
  {
   "cell_type": "code",
   "execution_count": 19,
   "id": "6440d8d6",
   "metadata": {},
   "outputs": [],
   "source": [
    "with open(\"LR_Q1_Dataset.txt\") as f:\n",
    "    l=f.readlines()\n",
    "    f.close()\n",
    "exam_score_1 = []\n",
    "exam_score_2 = []\n",
    "y=[]\n",
    "for i in l:\n",
    "    k=i.split(',')\n",
    "    exam_score_1.append(k[0])\n",
    "    exam_score_2.append(k[1])\n",
    "    y.append(k[2][0])"
   ]
  },
  {
   "cell_type": "code",
   "execution_count": 20,
   "id": "2d27d743",
   "metadata": {},
   "outputs": [],
   "source": [
    "def normal_data(exam_score_1,exam_score_2,y):\n",
    "    exam_score_1 = np.array(exam_score_1,dtype=float)\n",
    "    exam_score_2 = np.array(exam_score_2,dtype=float)\n",
    "    exam_score_3 = np.square(exam_score_1)\n",
    "    exam_score_4 = np.square(exam_score_2)\n",
    "    exam_score_5 = np.multiply(exam_score_1,exam_score_2)\n",
    "    y = np.array(y,dtype=float)\n",
    "    dataset_train=[]\n",
    "    y_train=[]\n",
    "    for i in range(70):\n",
    "        dataset_train.append([1,exam_score_1[i],exam_score_2[i],exam_score_3[i],exam_score_4[i],exam_score_5[i]])\n",
    "        y_train.append(y[i])\n",
    "    dataset_train = np.array(dataset_train)\n",
    "    y_train = np.array(y_train)\n",
    "    y_train=np.array(y_train)\n",
    "    dataset_test=[]\n",
    "    y_test=[]\n",
    "    for i in range(70,100):\n",
    "        dataset_test.append([1,exam_score_1[i],exam_score_2[i],exam_score_3[i],exam_score_4[i],exam_score_5[i]])\n",
    "        y_test.append(y[i])\n",
    "    datset_test = np.array(dataset_test)\n",
    "    y_test=np.array(y_test)\n",
    "    return dataset_train,y_train,dataset_test,y_test"
   ]
  },
  {
   "cell_type": "code",
   "execution_count": 21,
   "id": "ea53a07e",
   "metadata": {},
   "outputs": [],
   "source": [
    "def scaled_data(exam_score_1,exam_score_2,y):\n",
    "    exam_score_1 = np.array(exam_score_1,dtype=float)\n",
    "    exam_score_2 = np.array(exam_score_2,dtype=float)\n",
    "    exam_score_3 = np.square(exam_score_1)\n",
    "    exam_score_4 = np.square(exam_score_2)\n",
    "    exam_score_5  = np.multiply(exam_score_1,exam_score_2)\n",
    "    \n",
    "    mean_score1 = np.mean(exam_score_1)\n",
    "    min_score1 =np.min(exam_score_1) \n",
    "    max_score1 =np.max(exam_score_1)\n",
    "    \n",
    "    mean_score2 = np.mean(exam_score_2)\n",
    "    min_score2 =np.min(exam_score_2) \n",
    "    max_score2 =np.max(exam_score_2)\n",
    "    \n",
    "    mean_score3 = np.mean(exam_score_3)\n",
    "    min_score3 =np.min(exam_score_3) \n",
    "    max_score3 =np.max(exam_score_3)\n",
    "    \n",
    "    mean_score4 = np.mean(exam_score_4)\n",
    "    min_score4 =np.min(exam_score_4) \n",
    "    max_score4 =np.max(exam_score_4)\n",
    "    \n",
    "    mean_score5 = np.mean(exam_score_5)\n",
    "    min_score5 =np.min(exam_score_5) \n",
    "    max_score5 =np.max(exam_score_5)\n",
    "\n",
    "    y = np.array(y,dtype=float)\n",
    "    dataset_train=[]\n",
    "    y_train=[]\n",
    "    for i in range(70):\n",
    "        dataset_train.append([1,(exam_score_1[i]-mean_score1)/(max_score1-min_score1),(exam_score_2[i]-mean_score2)/(max_score2-min_score2),\n",
    "                             (exam_score_3[i]-mean_score3)/(max_score3-min_score3),(exam_score_4[i]-mean_score4)/(max_score4-min_score4)\n",
    "                             ,(exam_score_5[i]-mean_score5)/(max_score5-min_score5)])\n",
    "        y_train.append(y[i])\n",
    "    dataset_train = np.array(dataset_train)\n",
    "    y_train=np.array(y_train)\n",
    "    dataset_test=[]\n",
    "    y_test=[]\n",
    "    for i in range(70,100):\n",
    "        dataset_test.append([1,(exam_score_1[i]-mean_score1)/(max_score1-min_score1),(exam_score_2[i]-mean_score2)/(max_score2-min_score2),\n",
    "                             (exam_score_3[i]-mean_score3)/(max_score3-min_score3),(exam_score_4[i]-mean_score4)/(max_score4-min_score4),\n",
    "                            (exam_score_5[i]-mean_score5)/(max_score5-min_score5)])\n",
    "        y_test.append(y[i])\n",
    "    datset_test = np.array(dataset_test)\n",
    "    y_test=np.array(y_test)\n",
    "    return dataset_train,y_train,dataset_test,y_test"
   ]
  },
  {
   "cell_type": "code",
   "execution_count": 22,
   "id": "6bf867ac",
   "metadata": {},
   "outputs": [],
   "source": [
    "def sigmoid(z):\n",
    "    return 1.0/(1+np.exp(-1*z))"
   ]
  },
  {
   "cell_type": "code",
   "execution_count": 23,
   "id": "64af015f",
   "metadata": {},
   "outputs": [],
   "source": [
    "def slope(Coeff, X_train, Y_train, ind):\n",
    "    diff = 0\n",
    "    for i in range(len(X_train)):\n",
    "        h_theta = 0\n",
    "        for j in range(len(Coeff)):\n",
    "            h_theta = h_theta + Coeff[j] * X_train[i][j]\n",
    "        diff += (sigmoid(h_theta) - Y_train[i]) * X_train[i][ind]\n",
    "    return diff"
   ]
  },
  {
   "cell_type": "code",
   "execution_count": 24,
   "id": "01551d35",
   "metadata": {},
   "outputs": [],
   "source": [
    "def batchGradient(x_train,y_train,alpha = 0.000001,epoch=50000):\n",
    "    coeff=[0,0,0,0,0]\n",
    "    for i in range(epoch):\n",
    "        tmp_coeff = coeff.copy()\n",
    "        for j in range(len(coeff)):\n",
    "            tmp_coeff[j] = tmp_coeff[j]-alpha*(slope(coeff,x_train,y_train,j))\n",
    "        coeff = tmp_coeff.copy()\n",
    "    return coeff"
   ]
  },
  {
   "cell_type": "code",
   "execution_count": 25,
   "id": "3695c332",
   "metadata": {},
   "outputs": [],
   "source": [
    "def printaccuracy(X_test, Y_test, Coeff):\n",
    "    count = 0\n",
    "    for i in range(len(X_test)):\n",
    "        predicted = 0\n",
    "        for j in range(len(Coeff)):\n",
    "            predicted = predicted + Coeff[j] * X_test[i][j]\n",
    "        predicted = sigmoid(predicted)\n",
    "        if predicted > 0.5:\n",
    "            if Y_test[i] == 1:\n",
    "                count += 1\n",
    "        else:\n",
    "            if Y_test[i] == 0:\n",
    "                count += 1\n",
    "    print(\"Accuracy is : \"+ str(count / len(Y_test) * 100))\n",
    "    return count / len(Y_test) * 100"
   ]
  },
  {
   "cell_type": "code",
   "execution_count": 26,
   "id": "87e1e953",
   "metadata": {},
   "outputs": [],
   "source": [
    "def stochaisticSlope(coeff,x_train,y_train,ind):\n",
    "    diff=0\n",
    "    for i in range(len(coeff)):\n",
    "        diff = diff + coeff[i] * x_train[i]\n",
    "    return (sigmoid(diff)-y_train)*x_train[ind]"
   ]
  },
  {
   "cell_type": "code",
   "execution_count": 27,
   "id": "09638571",
   "metadata": {},
   "outputs": [],
   "source": [
    "def stochaisticGradient(X_train,Y_train,alpha=0.00001,epochs=5000):\n",
    "    Coeff = [0,0,0,0,0,0]\n",
    "    for iter in range(epochs):\n",
    "        for i in range(len(Y_train)):\n",
    "            TempCoeff = Coeff.copy()\n",
    "            for j in range(len(TempCoeff)):\n",
    "                TempCoeff[j] = TempCoeff[j] - (alpha * (stochaisticSlope(Coeff, X_train[i], Y_train[i], j)))\n",
    "            Coeff = TempCoeff.copy()\n",
    "    return Coeff"
   ]
  },
  {
   "cell_type": "code",
   "execution_count": 28,
   "id": "36a74d00",
   "metadata": {},
   "outputs": [],
   "source": [
    "def minibtchgra(X_train, Y_train, alpha = 0.00001, epochs = 30, batchsize = 20):\n",
    "    LearningRateScaling = alpha\n",
    "    Coeff = [0,0,0,0,0,0]\n",
    "    NoOfBatches = int(np.ceil(len(Y_train) / batchsize))\n",
    "    equallyDiv = False\n",
    "    if (len(Y_train) % batchsize == 0):\n",
    "        equallyDiv = True;\n",
    "\n",
    "    for epoch in range(epochs):\n",
    "        for batch in range(NoOfBatches):\n",
    "            Summation = [0, 0, 0,0,0,0]\n",
    "            for j in range(len(Coeff)):\n",
    "                for i in range(batchsize):\n",
    "                    if (batch * batchsize + i == len(X_train)):\n",
    "                        break\n",
    "                    PredictedValue = 0.0\n",
    "                    for wj in range(len(Coeff)):\n",
    "                        PredictedValue += Coeff[wj] * X_train[batch * batchsize + i][wj]\n",
    "                    PredictedValue = sigmoid(PredictedValue)\n",
    "                    PredictedValue -= Y_train[batch * batchsize + i]\n",
    "                    PredictedValue *= X_train[batch * batchsize + i][j]\n",
    "                    Summation[j] += PredictedValue;\n",
    "\n",
    "            if (not equallyDiv and batch == NoOfBatches - 1):\n",
    "                for j in range(len(Summation)):\n",
    "                    Coeff[j] -= (Summation[j] / (len(Y_train) % batchsize)) * LearningRateScaling\n",
    "            else:\n",
    "                for j in range(len(Summation)):\n",
    "                    Coeff[j] -= (Summation[j] / batchsize) * LearningRateScaling\n",
    "    return Coeff"
   ]
  },
  {
   "cell_type": "code",
   "execution_count": 29,
   "id": "a0c72952",
   "metadata": {},
   "outputs": [],
   "source": [
    "dataset_train,y_train,dataset_test,y_test = normal_data(exam_score_1,exam_score_2,y)"
   ]
  },
  {
   "cell_type": "code",
   "execution_count": 30,
   "id": "97ecf7b0",
   "metadata": {},
   "outputs": [
    {
     "name": "stderr",
     "output_type": "stream",
     "text": [
      "C:\\Users\\13vij\\AppData\\Local\\Temp/ipykernel_9732/222168131.py:2: RuntimeWarning: overflow encountered in exp\n",
      "  return 1.0/(1+np.exp(-1*z))\n"
     ]
    },
    {
     "name": "stdout",
     "output_type": "stream",
     "text": [
      "Accuracy is : 80.0\n"
     ]
    },
    {
     "data": {
      "text/plain": [
       "80.0"
      ]
     },
     "execution_count": 30,
     "metadata": {},
     "output_type": "execute_result"
    }
   ],
   "source": [
    "batch_coeff=batchGradient(dataset_train,y_train)\n",
    "printaccuracy(dataset_test,y_test,batch_coeff)"
   ]
  },
  {
   "cell_type": "code",
   "execution_count": 31,
   "id": "f49d2faf",
   "metadata": {},
   "outputs": [
    {
     "name": "stderr",
     "output_type": "stream",
     "text": [
      "C:\\Users\\13vij\\AppData\\Local\\Temp/ipykernel_9732/222168131.py:2: RuntimeWarning: overflow encountered in exp\n",
      "  return 1.0/(1+np.exp(-1*z))\n"
     ]
    },
    {
     "name": "stdout",
     "output_type": "stream",
     "text": [
      "Accuracy is : 86.66666666666667\n"
     ]
    },
    {
     "data": {
      "text/plain": [
       "86.66666666666667"
      ]
     },
     "execution_count": 31,
     "metadata": {},
     "output_type": "execute_result"
    }
   ],
   "source": [
    "coeff_stoch = stochaisticGradient(dataset_train,y_train)\n",
    "printaccuracy(dataset_test,y_test,coeff_stoch)"
   ]
  },
  {
   "cell_type": "code",
   "execution_count": 32,
   "id": "9377fcd8",
   "metadata": {},
   "outputs": [
    {
     "name": "stdout",
     "output_type": "stream",
     "text": [
      "Accuracy is : 76.66666666666667\n"
     ]
    },
    {
     "data": {
      "text/plain": [
       "76.66666666666667"
      ]
     },
     "execution_count": 32,
     "metadata": {},
     "output_type": "execute_result"
    }
   ],
   "source": [
    "mini_coeff = minibtchgra(dataset_train,y_train)\n",
    "printaccuracy(dataset_test,y_test,mini_coeff)"
   ]
  },
  {
   "cell_type": "code",
   "execution_count": 33,
   "id": "f8df106b",
   "metadata": {},
   "outputs": [],
   "source": [
    "dataset_train,y_train,dataset_test,y_test = scaled_data(exam_score_1,exam_score_2,y)"
   ]
  },
  {
   "cell_type": "code",
   "execution_count": null,
   "id": "70b36e22",
   "metadata": {},
   "outputs": [],
   "source": [
    "batch_coeff=batchGradient(dataset_train,y_train)\n",
    "printaccuracy(dataset_test,y_test,batch_coeff)"
   ]
  },
  {
   "cell_type": "code",
   "execution_count": 35,
   "id": "5f073ed9",
   "metadata": {},
   "outputs": [
    {
     "name": "stdout",
     "output_type": "stream",
     "text": [
      "Accuracy is : 86.66666666666667\n"
     ]
    },
    {
     "data": {
      "text/plain": [
       "86.66666666666667"
      ]
     },
     "execution_count": 35,
     "metadata": {},
     "output_type": "execute_result"
    }
   ],
   "source": [
    "coeff_stoch = stochaisticGradient(dataset_train,y_train)\n",
    "printaccuracy(dataset_test,y_test,coeff_stoch)"
   ]
  },
  {
   "cell_type": "code",
   "execution_count": 36,
   "id": "13a57dc5",
   "metadata": {},
   "outputs": [
    {
     "name": "stdout",
     "output_type": "stream",
     "text": [
      "Accuracy is : 80.0\n"
     ]
    },
    {
     "data": {
      "text/plain": [
       "80.0"
      ]
     },
     "execution_count": 36,
     "metadata": {},
     "output_type": "execute_result"
    }
   ],
   "source": [
    "mini_coeff = minibtchgra(dataset_train,y_train)\n",
    "printaccuracy(dataset_test,y_test,mini_coeff)"
   ]
  },
  {
   "cell_type": "code",
   "execution_count": null,
   "id": "c7e064c4",
   "metadata": {},
   "outputs": [],
   "source": []
  },
  {
   "cell_type": "code",
   "execution_count": null,
   "id": "721cd078",
   "metadata": {},
   "outputs": [],
   "source": []
  },
  {
   "cell_type": "code",
   "execution_count": null,
   "id": "814f37db",
   "metadata": {},
   "outputs": [],
   "source": []
  }
 ],
 "metadata": {
  "kernelspec": {
   "display_name": "Python 3 (ipykernel)",
   "language": "python",
   "name": "python3"
  },
  "language_info": {
   "codemirror_mode": {
    "name": "ipython",
    "version": 3
   },
   "file_extension": ".py",
   "mimetype": "text/x-python",
   "name": "python",
   "nbconvert_exporter": "python",
   "pygments_lexer": "ipython3",
   "version": "3.9.7"
  }
 },
 "nbformat": 4,
 "nbformat_minor": 5
}
