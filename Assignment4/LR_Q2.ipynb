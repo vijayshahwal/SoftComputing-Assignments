{
 "cells": [
  {
   "cell_type": "code",
   "execution_count": 24,
   "id": "a5c59e3a",
   "metadata": {},
   "outputs": [],
   "source": [
    "import numpy as np\n",
    "import pandas as pd"
   ]
  },
  {
   "cell_type": "code",
   "execution_count": 25,
   "id": "fc7fedd8",
   "metadata": {},
   "outputs": [],
   "source": [
    "with open(\"clevlandHeartDisease.txt\") as f:\n",
    "    line = f.readlines()\n",
    "    f.close\n",
    "raw_data =[]\n",
    "for i in line:\n",
    "    l=i.strip()\n",
    "    raw_data.append(l)"
   ]
  },
  {
   "cell_type": "code",
   "execution_count": 26,
   "id": "06f01072",
   "metadata": {},
   "outputs": [],
   "source": [
    "dataset=[]\n",
    "for i in raw_data:\n",
    "    dataset.append(i.split(\",\"))"
   ]
  },
  {
   "cell_type": "code",
   "execution_count": 27,
   "id": "19cec5ea",
   "metadata": {},
   "outputs": [],
   "source": [
    "dataset=np.array(dataset,dtype=float)"
   ]
  },
  {
   "cell_type": "code",
   "execution_count": 28,
   "id": "d8fe1fdc",
   "metadata": {},
   "outputs": [
    {
     "data": {
      "text/plain": [
       "(14, 303)"
      ]
     },
     "execution_count": 28,
     "metadata": {},
     "output_type": "execute_result"
    }
   ],
   "source": [
    "dataset=dataset.T\n",
    "dataset.shape"
   ]
  },
  {
   "cell_type": "code",
   "execution_count": 29,
   "id": "a11fb31e",
   "metadata": {},
   "outputs": [],
   "source": [
    "data_dic={'age':dataset[0],'sex':dataset[1],'chest_pain':dataset[2],'blood_pressure':dataset[3],'cholestrol':dataset[4],\n",
    "           'fasting_sugar':dataset[5],'rest_ecg':dataset[6],'max_heart_rate':dataset[7],'exercise_induced_angina':dataset[8],\n",
    "          'old_peak':dataset[9],'slope':dataset[10],'major_vessels_colored':dataset[11],'thal':dataset[12],'heart_disease':dataset[13]}"
   ]
  },
  {
   "cell_type": "code",
   "execution_count": 30,
   "id": "2e186eef",
   "metadata": {},
   "outputs": [],
   "source": [
    "vis_dataset = pd.DataFrame(data=data_dic)"
   ]
  },
  {
   "cell_type": "code",
   "execution_count": 31,
   "id": "75aaf339",
   "metadata": {},
   "outputs": [
    {
     "data": {
      "text/html": [
       "<div>\n",
       "<style scoped>\n",
       "    .dataframe tbody tr th:only-of-type {\n",
       "        vertical-align: middle;\n",
       "    }\n",
       "\n",
       "    .dataframe tbody tr th {\n",
       "        vertical-align: top;\n",
       "    }\n",
       "\n",
       "    .dataframe thead th {\n",
       "        text-align: right;\n",
       "    }\n",
       "</style>\n",
       "<table border=\"1\" class=\"dataframe\">\n",
       "  <thead>\n",
       "    <tr style=\"text-align: right;\">\n",
       "      <th></th>\n",
       "      <th>age</th>\n",
       "      <th>sex</th>\n",
       "      <th>chest_pain</th>\n",
       "      <th>blood_pressure</th>\n",
       "      <th>cholestrol</th>\n",
       "      <th>fasting_sugar</th>\n",
       "      <th>rest_ecg</th>\n",
       "      <th>max_heart_rate</th>\n",
       "      <th>exercise_induced_angina</th>\n",
       "      <th>old_peak</th>\n",
       "      <th>slope</th>\n",
       "      <th>major_vessels_colored</th>\n",
       "      <th>thal</th>\n",
       "      <th>heart_disease</th>\n",
       "    </tr>\n",
       "  </thead>\n",
       "  <tbody>\n",
       "    <tr>\n",
       "      <th>0</th>\n",
       "      <td>63.0</td>\n",
       "      <td>1.0</td>\n",
       "      <td>1.0</td>\n",
       "      <td>145.0</td>\n",
       "      <td>233.0</td>\n",
       "      <td>1.0</td>\n",
       "      <td>2.0</td>\n",
       "      <td>150.0</td>\n",
       "      <td>0.0</td>\n",
       "      <td>2.3</td>\n",
       "      <td>3.0</td>\n",
       "      <td>0.0</td>\n",
       "      <td>6.0</td>\n",
       "      <td>0.0</td>\n",
       "    </tr>\n",
       "    <tr>\n",
       "      <th>1</th>\n",
       "      <td>67.0</td>\n",
       "      <td>1.0</td>\n",
       "      <td>4.0</td>\n",
       "      <td>160.0</td>\n",
       "      <td>286.0</td>\n",
       "      <td>0.0</td>\n",
       "      <td>2.0</td>\n",
       "      <td>108.0</td>\n",
       "      <td>1.0</td>\n",
       "      <td>1.5</td>\n",
       "      <td>2.0</td>\n",
       "      <td>3.0</td>\n",
       "      <td>3.0</td>\n",
       "      <td>1.0</td>\n",
       "    </tr>\n",
       "    <tr>\n",
       "      <th>2</th>\n",
       "      <td>67.0</td>\n",
       "      <td>1.0</td>\n",
       "      <td>4.0</td>\n",
       "      <td>120.0</td>\n",
       "      <td>229.0</td>\n",
       "      <td>0.0</td>\n",
       "      <td>2.0</td>\n",
       "      <td>129.0</td>\n",
       "      <td>1.0</td>\n",
       "      <td>2.6</td>\n",
       "      <td>2.0</td>\n",
       "      <td>2.0</td>\n",
       "      <td>7.0</td>\n",
       "      <td>1.0</td>\n",
       "    </tr>\n",
       "    <tr>\n",
       "      <th>3</th>\n",
       "      <td>37.0</td>\n",
       "      <td>1.0</td>\n",
       "      <td>3.0</td>\n",
       "      <td>130.0</td>\n",
       "      <td>250.0</td>\n",
       "      <td>0.0</td>\n",
       "      <td>0.0</td>\n",
       "      <td>187.0</td>\n",
       "      <td>0.0</td>\n",
       "      <td>3.5</td>\n",
       "      <td>3.0</td>\n",
       "      <td>0.0</td>\n",
       "      <td>3.0</td>\n",
       "      <td>0.0</td>\n",
       "    </tr>\n",
       "    <tr>\n",
       "      <th>4</th>\n",
       "      <td>41.0</td>\n",
       "      <td>0.0</td>\n",
       "      <td>2.0</td>\n",
       "      <td>130.0</td>\n",
       "      <td>204.0</td>\n",
       "      <td>0.0</td>\n",
       "      <td>2.0</td>\n",
       "      <td>172.0</td>\n",
       "      <td>0.0</td>\n",
       "      <td>1.4</td>\n",
       "      <td>1.0</td>\n",
       "      <td>0.0</td>\n",
       "      <td>3.0</td>\n",
       "      <td>0.0</td>\n",
       "    </tr>\n",
       "    <tr>\n",
       "      <th>...</th>\n",
       "      <td>...</td>\n",
       "      <td>...</td>\n",
       "      <td>...</td>\n",
       "      <td>...</td>\n",
       "      <td>...</td>\n",
       "      <td>...</td>\n",
       "      <td>...</td>\n",
       "      <td>...</td>\n",
       "      <td>...</td>\n",
       "      <td>...</td>\n",
       "      <td>...</td>\n",
       "      <td>...</td>\n",
       "      <td>...</td>\n",
       "      <td>...</td>\n",
       "    </tr>\n",
       "    <tr>\n",
       "      <th>298</th>\n",
       "      <td>45.0</td>\n",
       "      <td>1.0</td>\n",
       "      <td>1.0</td>\n",
       "      <td>110.0</td>\n",
       "      <td>264.0</td>\n",
       "      <td>0.0</td>\n",
       "      <td>0.0</td>\n",
       "      <td>132.0</td>\n",
       "      <td>0.0</td>\n",
       "      <td>1.2</td>\n",
       "      <td>2.0</td>\n",
       "      <td>0.0</td>\n",
       "      <td>7.0</td>\n",
       "      <td>1.0</td>\n",
       "    </tr>\n",
       "    <tr>\n",
       "      <th>299</th>\n",
       "      <td>68.0</td>\n",
       "      <td>1.0</td>\n",
       "      <td>4.0</td>\n",
       "      <td>144.0</td>\n",
       "      <td>193.0</td>\n",
       "      <td>1.0</td>\n",
       "      <td>0.0</td>\n",
       "      <td>141.0</td>\n",
       "      <td>0.0</td>\n",
       "      <td>3.4</td>\n",
       "      <td>2.0</td>\n",
       "      <td>2.0</td>\n",
       "      <td>7.0</td>\n",
       "      <td>1.0</td>\n",
       "    </tr>\n",
       "    <tr>\n",
       "      <th>300</th>\n",
       "      <td>57.0</td>\n",
       "      <td>1.0</td>\n",
       "      <td>4.0</td>\n",
       "      <td>130.0</td>\n",
       "      <td>131.0</td>\n",
       "      <td>0.0</td>\n",
       "      <td>0.0</td>\n",
       "      <td>115.0</td>\n",
       "      <td>1.0</td>\n",
       "      <td>1.2</td>\n",
       "      <td>2.0</td>\n",
       "      <td>1.0</td>\n",
       "      <td>7.0</td>\n",
       "      <td>1.0</td>\n",
       "    </tr>\n",
       "    <tr>\n",
       "      <th>301</th>\n",
       "      <td>57.0</td>\n",
       "      <td>0.0</td>\n",
       "      <td>2.0</td>\n",
       "      <td>130.0</td>\n",
       "      <td>236.0</td>\n",
       "      <td>0.0</td>\n",
       "      <td>2.0</td>\n",
       "      <td>174.0</td>\n",
       "      <td>0.0</td>\n",
       "      <td>0.0</td>\n",
       "      <td>2.0</td>\n",
       "      <td>1.0</td>\n",
       "      <td>3.0</td>\n",
       "      <td>1.0</td>\n",
       "    </tr>\n",
       "    <tr>\n",
       "      <th>302</th>\n",
       "      <td>38.0</td>\n",
       "      <td>1.0</td>\n",
       "      <td>3.0</td>\n",
       "      <td>138.0</td>\n",
       "      <td>175.0</td>\n",
       "      <td>0.0</td>\n",
       "      <td>0.0</td>\n",
       "      <td>173.0</td>\n",
       "      <td>0.0</td>\n",
       "      <td>0.0</td>\n",
       "      <td>1.0</td>\n",
       "      <td>1.0</td>\n",
       "      <td>3.0</td>\n",
       "      <td>0.0</td>\n",
       "    </tr>\n",
       "  </tbody>\n",
       "</table>\n",
       "<p>303 rows × 14 columns</p>\n",
       "</div>"
      ],
      "text/plain": [
       "      age  sex  chest_pain  blood_pressure  cholestrol  fasting_sugar  \\\n",
       "0    63.0  1.0         1.0           145.0       233.0            1.0   \n",
       "1    67.0  1.0         4.0           160.0       286.0            0.0   \n",
       "2    67.0  1.0         4.0           120.0       229.0            0.0   \n",
       "3    37.0  1.0         3.0           130.0       250.0            0.0   \n",
       "4    41.0  0.0         2.0           130.0       204.0            0.0   \n",
       "..    ...  ...         ...             ...         ...            ...   \n",
       "298  45.0  1.0         1.0           110.0       264.0            0.0   \n",
       "299  68.0  1.0         4.0           144.0       193.0            1.0   \n",
       "300  57.0  1.0         4.0           130.0       131.0            0.0   \n",
       "301  57.0  0.0         2.0           130.0       236.0            0.0   \n",
       "302  38.0  1.0         3.0           138.0       175.0            0.0   \n",
       "\n",
       "     rest_ecg  max_heart_rate  exercise_induced_angina  old_peak  slope  \\\n",
       "0         2.0           150.0                      0.0       2.3    3.0   \n",
       "1         2.0           108.0                      1.0       1.5    2.0   \n",
       "2         2.0           129.0                      1.0       2.6    2.0   \n",
       "3         0.0           187.0                      0.0       3.5    3.0   \n",
       "4         2.0           172.0                      0.0       1.4    1.0   \n",
       "..        ...             ...                      ...       ...    ...   \n",
       "298       0.0           132.0                      0.0       1.2    2.0   \n",
       "299       0.0           141.0                      0.0       3.4    2.0   \n",
       "300       0.0           115.0                      1.0       1.2    2.0   \n",
       "301       2.0           174.0                      0.0       0.0    2.0   \n",
       "302       0.0           173.0                      0.0       0.0    1.0   \n",
       "\n",
       "     major_vessels_colored  thal  heart_disease  \n",
       "0                      0.0   6.0            0.0  \n",
       "1                      3.0   3.0            1.0  \n",
       "2                      2.0   7.0            1.0  \n",
       "3                      0.0   3.0            0.0  \n",
       "4                      0.0   3.0            0.0  \n",
       "..                     ...   ...            ...  \n",
       "298                    0.0   7.0            1.0  \n",
       "299                    2.0   7.0            1.0  \n",
       "300                    1.0   7.0            1.0  \n",
       "301                    1.0   3.0            1.0  \n",
       "302                    1.0   3.0            0.0  \n",
       "\n",
       "[303 rows x 14 columns]"
      ]
     },
     "execution_count": 31,
     "metadata": {},
     "output_type": "execute_result"
    }
   ],
   "source": [
    "vis_dataset"
   ]
  },
  {
   "cell_type": "markdown",
   "id": "64e93e3b",
   "metadata": {},
   "source": [
    "## PREPROCESSING\n",
    "# APPLYING MEAN NORMALIZATION AND FEAATURE SCALING"
   ]
  },
  {
   "cell_type": "code",
   "execution_count": 32,
   "id": "caa7f706",
   "metadata": {},
   "outputs": [],
   "source": [
    "def processed(dataset):\n",
    "    f0 = [1]*len(dataset[0])\n",
    "    f1=dataset[0]\n",
    "    f2=dataset[1]\n",
    "    f3=dataset[2]\n",
    "    f4=dataset[3]\n",
    "    f5=dataset[4]\n",
    "    f6=dataset[5]\n",
    "    f7=dataset[6]\n",
    "    f8=dataset[7]\n",
    "    f9=dataset[8]\n",
    "    f10=dataset[9]\n",
    "    f11=dataset[10]\n",
    "    f12=dataset[11]\n",
    "    f13=dataset[12]\n",
    "    f14=dataset[13]\n",
    "    f1=(f1-np.mean(f1))/(max(f1)-min(f1))\n",
    "    f2=(f2-np.mean(f2))/(max(f2)-min(f2))\n",
    "    f3=(f3-np.mean(f3))/(max(f3)-min(f3))\n",
    "    f4=(f4-np.mean(f4))/(max(f4)-min(f4))\n",
    "    f5=(f5-np.mean(f5))/(max(f5)-min(f5))\n",
    "    f6=(f6-np.mean(f6))/(max(f6)-min(f6))\n",
    "    f7=(f7-np.mean(f7))/(max(f7)-min(f7))\n",
    "    f8=(f8-np.mean(f8))/(max(f8)-min(f8))\n",
    "    f9=(f9-np.mean(f9))/(max(f9)-min(f9))\n",
    "    f10=(f10-np.mean(f10))/(max(f10)-min(f10))\n",
    "    f11=(f11-np.mean(f11))/(max(f11)-min(f11))\n",
    "    f12=(f12-np.mean(f12))/(max(f12)-min(f12))\n",
    "    f13=(f13-np.mean(f13))/(max(f13)-min(f13))\n",
    "    n=int(np.ceil(0.7*len(dataset.T)))\n",
    "    dataset_train=np.array([f0[:n],f1[:n],f2[:n],f3[:n],f4[:n],f5[:n],f6[:n],f7[:n],f8[:n],f9[:n],f10[:n],f11[:n],f12[:n],f13[:n]])\n",
    "    y_train = np.array(f14[:n])\n",
    "    dataset_test=np.array([f0[n:],f1[n:],f2[n:],f3[n:],f4[n:],f5[n:],f6[n:],f7[n:],f8[n:],f9[n:],f10[n:],f11[n:],f12[n:],f13[n:]])\n",
    "    y_test = np.array(f14[n:])\n",
    "    return dataset_train.T,y_train.T,dataset_test.T,y_test.T"
   ]
  },
  {
   "cell_type": "code",
   "execution_count": 33,
   "id": "6904a547",
   "metadata": {},
   "outputs": [],
   "source": [
    "dataset_train,y_train,dataset_test,y_test=processed(dataset)"
   ]
  },
  {
   "cell_type": "code",
   "execution_count": 34,
   "id": "9ac6ce8c",
   "metadata": {},
   "outputs": [
    {
     "data": {
      "text/plain": [
       "(213, 14)"
      ]
     },
     "execution_count": 34,
     "metadata": {},
     "output_type": "execute_result"
    }
   ],
   "source": [
    "dataset_train.shape"
   ]
  },
  {
   "cell_type": "code",
   "execution_count": 35,
   "id": "631d6d23",
   "metadata": {},
   "outputs": [],
   "source": [
    "def sigmoid(z):\n",
    "    return 1.0/(1+np.exp(-1*z))"
   ]
  },
  {
   "cell_type": "code",
   "execution_count": 36,
   "id": "1fa8d03b",
   "metadata": {},
   "outputs": [],
   "source": [
    "def slope(Coeff, X_train, Y_train, ind):\n",
    "    diff = 0\n",
    "    for i in range(len(X_train)):\n",
    "        itr = 0\n",
    "        for j in range(len(Coeff)):\n",
    "            itr = itr + Coeff[j] * X_train[i][j]\n",
    "        diff += (sigmoid(itr) - Y_train[i]) * X_train[i][ind]\n",
    "    return diff"
   ]
  },
  {
   "cell_type": "code",
   "execution_count": 37,
   "id": "d45dd170",
   "metadata": {},
   "outputs": [],
   "source": [
    "def batchGradient(x_train,y_train,alpha=0.000000001,epoch=500):\n",
    "    coeff=[0]*14\n",
    "    for i in range(epoch):\n",
    "        tmp_coeff = coeff.copy()\n",
    "        for j in range(len(coeff)):\n",
    "            tmp_coeff[j] = tmp_coeff[j]-alpha*(slope(coeff,x_train,y_train,j))\n",
    "        coeff = tmp_coeff.copy()\n",
    "    return coeff"
   ]
  },
  {
   "cell_type": "code",
   "execution_count": 38,
   "id": "499c3b06",
   "metadata": {},
   "outputs": [],
   "source": [
    "def printaccuracy(X_test, Y_test, Coeff):\n",
    "    count = 0\n",
    "    for i in range(len(X_test)):\n",
    "        predicted = 0\n",
    "        for j in range(len(Coeff)):\n",
    "            predicted = predicted + Coeff[j] * X_test[i][j]\n",
    "        predicted = sigmoid(predicted)\n",
    "        if predicted > 0.5:\n",
    "            if Y_test[i] == 1:\n",
    "                count += 1\n",
    "        else:\n",
    "            if Y_test[i] == 0:\n",
    "                count += 1\n",
    "    print(\"Accuracy is : \" + str(count / len(Y_test) * 100))"
   ]
  },
  {
   "cell_type": "code",
   "execution_count": 39,
   "id": "f468d131",
   "metadata": {},
   "outputs": [
    {
     "name": "stdout",
     "output_type": "stream",
     "text": [
      "Accuracy is : 76.66666666666667\n"
     ]
    }
   ],
   "source": [
    "coeff=batchGradient(dataset_train,y_train)\n",
    "printaccuracy(dataset_test,y_test,coeff)"
   ]
  },
  {
   "cell_type": "code",
   "execution_count": 40,
   "id": "0040a23b",
   "metadata": {},
   "outputs": [
    {
     "data": {
      "text/plain": [
       "[-5.249945415396806e-06,\n",
       " 2.3917508496473136e-06,\n",
       " 5.819270589526036e-06,\n",
       " 7.277196794242608e-06,\n",
       " 1.3926497651963471e-06,\n",
       " 7.132152116466475e-07,\n",
       " -9.702979436196956e-07,\n",
       " 5.098987542448588e-06,\n",
       " -3.9088520370787185e-06,\n",
       " 1.0715283330392261e-05,\n",
       " 4.017389496884619e-06,\n",
       " 5.9517042553658945e-06,\n",
       " 7.623732085206241e-06,\n",
       " 1.4149057012516334e-05]"
      ]
     },
     "execution_count": 40,
     "metadata": {},
     "output_type": "execute_result"
    }
   ],
   "source": [
    "coeff"
   ]
  },
  {
   "cell_type": "code",
   "execution_count": 41,
   "id": "dc82efb3",
   "metadata": {},
   "outputs": [],
   "source": [
    "def stochaisticSlope(coeff,x_train,y_train,ind):\n",
    "    diff=0\n",
    "    for i in range(len(coeff)):\n",
    "        diff = diff + coeff[i] * x_train[i]\n",
    "    return (sigmoid(diff)-y_train)*x_train[ind]"
   ]
  },
  {
   "cell_type": "code",
   "execution_count": 42,
   "id": "071e0bfd",
   "metadata": {},
   "outputs": [],
   "source": [
    "def stochaisticGradient(X_train,Y_train,alpha=0.000000001,epochs=500):\n",
    "    Coeff = [0]*len(X_train[0])\n",
    "    for iter in range(epochs):\n",
    "        for i in range(len(Y_train)):\n",
    "            TempCoeff = Coeff.copy()\n",
    "            for j in range(len(X_train[0])):\n",
    "                TempCoeff[j] = TempCoeff[j] - (alpha * (stochaisticSlope(Coeff, X_train[i], Y_train[i], j)))\n",
    "            Coeff = TempCoeff.copy()\n",
    "    return Coeff"
   ]
  },
  {
   "cell_type": "code",
   "execution_count": 43,
   "id": "9061ee2d",
   "metadata": {},
   "outputs": [
    {
     "name": "stdout",
     "output_type": "stream",
     "text": [
      "Accuracy is : 76.66666666666667\n",
      "None\n"
     ]
    }
   ],
   "source": [
    "coeff_stoch = stochaisticGradient(dataset_train,y_train)\n",
    "print(printaccuracy(dataset_test,y_test,coeff_stoch))"
   ]
  },
  {
   "cell_type": "code",
   "execution_count": 44,
   "id": "81c5a60f",
   "metadata": {},
   "outputs": [],
   "source": [
    "import math\n",
    "def minibtchgrareg(X_train, Y_train, alpha = 0.000000001, epochs = 30, batchsize = 20, LambdaParameter = 10):\n",
    "\tLearningRateScaling = alpha\n",
    "\tCoeff = [0] * len(X_train[0])\n",
    "\tNoOfBatches = math.ceil(len(Y_train) / batchsize)\n",
    "\tequallyDiv = False\n",
    "\tif (len(Y_train) % batchsize == 0):\n",
    "\t\tequallyDiv = True;\n",
    "\n",
    "\tfor epoch in range(epochs):\n",
    "\t\tfor batch in range(NoOfBatches):\n",
    "\t\t\tSummation = [0] * len(X_train[0])\n",
    "\t\t\tfor j in range(len(Coeff)):\n",
    "\t\t\t\tfor i in range(batchsize):\n",
    "\t\t\t\t\tif (batch * batchsize + i == len(X_train)):\n",
    "\t\t\t\t\t\tbreak\n",
    "\t\t\t\t\tPredictedValue = 0.0\n",
    "\t\t\t\t\tfor wj in range(len(Coeff)):\n",
    "\t\t\t\t\t\tPredictedValue += Coeff[wj] * X_train[batch * batchsize + i][wj]\n",
    "\t\t\t\t\tPredictedValue = sigmoid(PredictedValue)\n",
    "\t\t\t\t\tPredictedValue -= Y_train[batch * batchsize + i]\n",
    "\t\t\t\t\tPredictedValue *= X_train[batch * batchsize + i][j]\n",
    "\t\t\t\t\tSummation[j] += PredictedValue;\n",
    "\n",
    "\t\t\tif (not equallyDiv and batch == NoOfBatches - 1):\n",
    "\t\t\t\tfor j in range(len(Summation)):\n",
    "\t\t\t\t\tif j == 0:\n",
    "\t\t\t\t\t\tCoeff[j] = Coeff[j] - (Summation[j] / (len(Y_train) % batchsize)) * LearningRateScaling\n",
    "\t\t\t\t\telse:\n",
    "\t\t\t\t\t\tCoeff[j] = (1 - LearningRateScaling * LambdaParameter / (len(Y_train) % batchsize)) * Coeff[j] - (Summation[j] / (len(Y_train) % batchsize)) * LearningRateScaling\n",
    "\t\t\telse:\n",
    "\t\t\t\tfor j in range(len(Summation)):\n",
    "\t\t\t\t\tif j == 0:\n",
    "\t\t\t\t\t\tCoeff[j] = Coeff[j] - (Summation[j] / batchsize) * LearningRateScaling\n",
    "\t\t\t\t\telse:\n",
    "\t\t\t\t\t\tCoeff[j] = (1 - LearningRateScaling * LambdaParameter / batchsize) * Coeff[j] - (Summation[j] / batchsize) * LearningRateScaling\n",
    "\treturn Coeff\n"
   ]
  },
  {
   "cell_type": "code",
   "execution_count": 45,
   "id": "eaec05ad",
   "metadata": {},
   "outputs": [
    {
     "data": {
      "text/plain": [
       "[-1.6961537912142945e-08,\n",
       " 7.220010719591769e-09,\n",
       " 1.828160506884899e-08,\n",
       " 2.1895656605321252e-08,\n",
       " 4.212513436984644e-09,\n",
       " 2.197808336432481e-09,\n",
       " -3.1348055304109987e-09,\n",
       " 1.6300645727423846e-08,\n",
       " -1.1989193754009125e-08,\n",
       " 3.415726986339343e-08,\n",
       " 1.2691781286638628e-08,\n",
       " 1.9026749792377748e-08,\n",
       " 2.3688306871692632e-08,\n",
       " 4.337604272921285e-08]"
      ]
     },
     "execution_count": 45,
     "metadata": {},
     "output_type": "execute_result"
    }
   ],
   "source": [
    "mini_coeff = minibtchgrareg(dataset_train,y_train)\n",
    "mini_coeff"
   ]
  },
  {
   "cell_type": "code",
   "execution_count": 46,
   "id": "97659df5",
   "metadata": {},
   "outputs": [
    {
     "name": "stdout",
     "output_type": "stream",
     "text": [
      "Accuracy is : 77.77777777777779\n"
     ]
    }
   ],
   "source": [
    "printaccuracy(dataset_test,y_test,mini_coeff)"
   ]
  },
  {
   "cell_type": "code",
   "execution_count": null,
   "id": "56514637",
   "metadata": {},
   "outputs": [],
   "source": []
  }
 ],
 "metadata": {
  "kernelspec": {
   "display_name": "Python 3 (ipykernel)",
   "language": "python",
   "name": "python3"
  },
  "language_info": {
   "codemirror_mode": {
    "name": "ipython",
    "version": 3
   },
   "file_extension": ".py",
   "mimetype": "text/x-python",
   "name": "python",
   "nbconvert_exporter": "python",
   "pygments_lexer": "ipython3",
   "version": "3.9.7"
  }
 },
 "nbformat": 4,
 "nbformat_minor": 5
}
