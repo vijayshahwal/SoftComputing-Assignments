{
 "cells": [
  {
   "cell_type": "code",
   "execution_count": 31,
   "id": "64fd7efc",
   "metadata": {},
   "outputs": [],
   "source": [
    "import numpy as np\n",
    "import math"
   ]
  },
  {
   "cell_type": "code",
   "execution_count": 32,
   "id": "e94a9867",
   "metadata": {},
   "outputs": [],
   "source": [
    "with open(\"MicroChip.txt\") as f:\n",
    "    line=f.readlines()\n",
    "    f.close()\n",
    "raw_data=[]\n",
    "for i in line:\n",
    "    t=i.strip()\n",
    "    raw_data.append(t)"
   ]
  },
  {
   "cell_type": "code",
   "execution_count": 33,
   "id": "0b4e8003",
   "metadata": {},
   "outputs": [],
   "source": [
    "dataset=[]\n",
    "for i in raw_data:\n",
    "    dataset.append(i.split(','))\n",
    "dataset=np.array(dataset,dtype=np.longdouble)"
   ]
  },
  {
   "cell_type": "code",
   "execution_count": 34,
   "id": "ba91af56",
   "metadata": {},
   "outputs": [
    {
     "data": {
      "text/plain": [
       "(3, 118)"
      ]
     },
     "execution_count": 34,
     "metadata": {},
     "output_type": "execute_result"
    }
   ],
   "source": [
    "dataset=dataset.T\n",
    "dataset.shape"
   ]
  },
  {
   "cell_type": "code",
   "execution_count": 35,
   "id": "54c6dd5f",
   "metadata": {},
   "outputs": [
    {
     "data": {
      "text/plain": [
       "(-0.83007, 1.0709)"
      ]
     },
     "execution_count": 35,
     "metadata": {},
     "output_type": "execute_result"
    }
   ],
   "source": [
    "min(dataset[0]),max(dataset[0])"
   ]
  },
  {
   "cell_type": "code",
   "execution_count": 36,
   "id": "d1ea355d",
   "metadata": {},
   "outputs": [
    {
     "data": {
      "text/plain": [
       "(-0.76974, 1.1089)"
      ]
     },
     "execution_count": 36,
     "metadata": {},
     "output_type": "execute_result"
    }
   ],
   "source": [
    "min(dataset[1]),max(dataset[1])"
   ]
  },
  {
   "cell_type": "code",
   "execution_count": 37,
   "id": "96c8f294",
   "metadata": {},
   "outputs": [],
   "source": [
    "def processed(dataset):\n",
    "    f1=np.array(dataset[0])\n",
    "    f2=np.array(dataset[1])\n",
    "    f3 = np.square(f1)\n",
    "    f4 = np.square(f2)\n",
    "    f5 = f1*f2\n",
    "    f1 = (f1-np.mean(f1))/(np.max(f1)-np.min(f1))\n",
    "    f2 = (f2-np.mean(f2))/(np.max(f2)-np.min(f2))\n",
    "    f3 = (f3-np.mean(f3))/(np.max(f3)-np.min(f3))\n",
    "    f4 = (f4-np.mean(f4))/(np.max(f4)-np.min(f4))\n",
    "    f5 = (f5-np.mean(f5))/(np.max(f5)-np.min(f5))\n",
    "    pct_data = int(0.7*(len(dataset[0])))\n",
    "    dataset_train=np.array([f1[:pct_data],f2[:pct_data],f3[:pct_data],f4[:pct_data],f5[:pct_data]])\n",
    "    y_train = np.array(dataset[2][:pct_data])\n",
    "    dataset_test=np.array([f1[pct_data:],f2[pct_data:],f3[pct_data:],f4[pct_data:],f5[pct_data:]])\n",
    "    y_test = np.array(dataset[2][pct_data:])\n",
    "    return dataset_train.T,y_train.T,dataset_test.T,y_test.T"
   ]
  },
  {
   "cell_type": "markdown",
   "id": "ea77a452",
   "metadata": {},
   "source": [
    "# Gaussian Discriminant Algorithm\n",
    "## step1:\n",
    "### probablity distribution normal distribution\n",
    "$$ P(X|Y;\\mu;\\sigma)= \\frac{1}{((2\\pi)^n\\sigma)^\\frac{1}{2}} \\exp(\\frac{-1}{2}(X-\\mu)^T \\sigma^{-1}(X-\\mu)$$\n",
    "## step2:\n",
    "### LikelyHood estimate of m samples\n",
    "$$ L(\\mu;\\sigma;x^i) = L(\\mu;\\sigma;x^1)*L(\\mu;\\sigma;x^2)*L(\\mu;\\sigma;x^3)*....*L(\\mu;\\sigma;x^m) $$\n",
    "## step3:\n",
    "### Taking Log and partial differentiating with respect to mu,sigma we get values of mu and sigma\n",
    "$$ \\mu = \\frac{\\sum_{i=1}^{i=m}X^i}{m} $$\n",
    "$$ \\sigma = \\frac{\\sum_{i=1}{i=m}(x^i-\\mu_{y^i})(x^i-\\mu_{y^i})^T}{m} $$\n",
    "## step4:Probability for prediction\n",
    "$$ P(y^i,\\phi) = \\phi(y^i)(1-\\phi(y))^{1-y^i} $$\n",
    "## step5:\n",
    "### using step1 and taking Log and partial differentiating with respect to phi we get values of phi\n",
    "$$ \\phi^- = \\frac{\\sum_{i=1}^{i=m}(Y^i=1)}{m} $$\n"
   ]
  },
  {
   "cell_type": "code",
   "execution_count": 38,
   "id": "83effa0d",
   "metadata": {},
   "outputs": [],
   "source": [
    "def cal_phi_bar(y_train):\n",
    "    m=len(y_train)\n",
    "    count=0\n",
    "    for i in y_train:\n",
    "        if i==1:\n",
    "            count+=1\n",
    "    return count/m"
   ]
  },
  {
   "cell_type": "code",
   "execution_count": 39,
   "id": "114374ec",
   "metadata": {},
   "outputs": [],
   "source": [
    "def cal_mu(dataset_train,y_train):\n",
    "    n=len(dataset_train[0])\n",
    "    mu0=np.zeros(n)\n",
    "    mu1=np.zeros(n)\n",
    "    zero=0\n",
    "    one=1\n",
    "    for i in range(len(dataset_train)):\n",
    "        if(y_train[i]==0):\n",
    "            for j in range(n):\n",
    "                mu0[j]+=dataset_train[i][j]\n",
    "            zero+=1\n",
    "        else:\n",
    "            for j in range(n):\n",
    "                mu1[j]+=dataset_train[i][j]\n",
    "            one+=1\n",
    "    mu0=mu0/zero\n",
    "    mu1=mu1/one\n",
    "    return mu0,mu1"
   ]
  },
  {
   "cell_type": "code",
   "execution_count": 40,
   "id": "8d81624b",
   "metadata": {},
   "outputs": [],
   "source": [
    "def cal_sigma(X_train,Y_train):\n",
    "    m = len(X_train)\n",
    "    n = len(X_train[0])\n",
    "    sigma = np.zeros((n, n))\n",
    "    for i in range(m):\n",
    "        if Y_train[i] == 1:\n",
    "            mu = mu1\n",
    "        else:\n",
    "            mu = mu0\n",
    "        mu = mu.reshape((n, 1))\n",
    "        xi = X_train[i].reshape((n, 1))\n",
    "        sigma += np.dot(xi-mu, np.transpose(xi-mu))\n",
    "    return sigma / m"
   ]
  },
  {
   "cell_type": "code",
   "execution_count": 41,
   "id": "896e6a58",
   "metadata": {},
   "outputs": [],
   "source": [
    "def cal_p_x_given_y(x,mu,sigma):\n",
    "    n = len(x)\n",
    "    pi = 3.14\n",
    "    mu = (np.array(mu)).reshape((n, 1))\n",
    "    x = (np.array(x)).reshape((n, 1))\n",
    "    return ((1 / (((2 * pi) ** (n / 2)) * math.sqrt(np.linalg.det(sigma)))) * np.exp(-0.5 * np.dot(np.transpose(x - mu), np.dot(np.linalg.inv(sigma), (x - mu)))))"
   ]
  },
  {
   "cell_type": "code",
   "execution_count": 42,
   "id": "01c0d733",
   "metadata": {},
   "outputs": [],
   "source": [
    "def cal_py(y,phi):\n",
    "    if(y==1):\n",
    "        return phi\n",
    "    return 1-phi"
   ]
  },
  {
   "cell_type": "code",
   "execution_count": 43,
   "id": "1d44708e",
   "metadata": {},
   "outputs": [],
   "source": [
    "def accuracy(dataset_test,y_test,mu0,mu1,sigma,phi):\n",
    "    n=len(y_test)\n",
    "    correct=0\n",
    "    for i in range(n):\n",
    "        p_x_0_y_0 = cal_p_x_given_y(dataset_test[i],mu0,sigma)*cal_py(0,phi)\n",
    "        p_x_0_y_1 = cal_p_x_given_y(dataset_test[i],mu1,sigma)*cal_py(1,phi)\n",
    "        if(p_x_0_y_0>=p_x_0_y_1):\n",
    "            if(y_test[i]==0):\n",
    "                correct+=1\n",
    "        else:\n",
    "            if(y_test[i]==1):\n",
    "                correct+=1\n",
    "    return (correct/n)*100 "
   ]
  },
  {
   "cell_type": "code",
   "execution_count": 44,
   "id": "6616aa44",
   "metadata": {},
   "outputs": [],
   "source": [
    "X=dataset.T\n",
    "np.random.shuffle(X)\n",
    "dataset_train,y_train,dataset_test,y_test = processed(X.T)\n",
    "mu0,mu1=cal_mu(dataset_train,y_train)\n",
    "sigma=getsigma(dataset_train,y_train)\n",
    "#dataset_train,dataset_train.shape,y_train,y_train.shape,dataset_test,dataset_test.shape,y_test,y_test.shape,mu0,mu0.shape,mu1,mu1.shape,sigma,sigma.shape"
   ]
  },
  {
   "cell_type": "code",
   "execution_count": 45,
   "id": "1a83a3ba",
   "metadata": {},
   "outputs": [
    {
     "name": "stdout",
     "output_type": "stream",
     "text": [
      "Accuracy is:  88.88888888888889\n"
     ]
    }
   ],
   "source": [
    "phi  = cal_phi_bar(y_train)\n",
    "print(\"Accuracy is: \",accuracy(dataset_test,y_test,mu0,mu1,sigma,phi))"
   ]
  }
 ],
 "metadata": {
  "kernelspec": {
   "display_name": "Python 3 (ipykernel)",
   "language": "python",
   "name": "python3"
  },
  "language_info": {
   "codemirror_mode": {
    "name": "ipython",
    "version": 3
   },
   "file_extension": ".py",
   "mimetype": "text/x-python",
   "name": "python",
   "nbconvert_exporter": "python",
   "pygments_lexer": "ipython3",
   "version": "3.9.7"
  }
 },
 "nbformat": 4,
 "nbformat_minor": 5
}
