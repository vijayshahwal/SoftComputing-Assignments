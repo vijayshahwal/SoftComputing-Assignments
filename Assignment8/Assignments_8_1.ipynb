{
 "cells": [
  {
   "cell_type": "code",
   "execution_count": 1,
   "id": "f89c376b",
   "metadata": {},
   "outputs": [],
   "source": [
    "import numpy as np\n",
    "from scipy import stats"
   ]
  },
  {
   "cell_type": "code",
   "execution_count": 2,
   "id": "d0acc098",
   "metadata": {},
   "outputs": [],
   "source": [
    "dataset=[]\n",
    "with open('Marksof2Subject.txt') as f:\n",
    "    l=f.readlines()\n",
    "    f.close()\n",
    "for i in l:\n",
    "    x=i.strip().split(',')\n",
    "    dataset.append(x)\n",
    "dataset = np.array(dataset,dtype=float)"
   ]
  },
  {
   "cell_type": "code",
   "execution_count": 3,
   "id": "bdf2fb72",
   "metadata": {},
   "outputs": [],
   "source": [
    "# shuffling of Data and spliting into train and test set\n",
    "def scaled_data(dataset):\n",
    "    dataset = np.random.permutation(dataset)\n",
    "    marks1 = dataset.T[0]\n",
    "    marks2 = dataset.T[1]\n",
    "    result = dataset.T[2]\n",
    "    marks = np.stack([marks1,marks2]).T\n",
    "    x_train = marks[:90]\n",
    "    y_train = result[:90]\n",
    "    x_test = marks[90:]\n",
    "    y_test = result[90:]\n",
    "    return x_train,y_train,x_test,y_test"
   ]
  },
  {
   "cell_type": "code",
   "execution_count": 4,
   "id": "e63bdc24",
   "metadata": {},
   "outputs": [],
   "source": [
    "x_train,y_train,x_test,y_test=scaled_data(dataset)"
   ]
  },
  {
   "cell_type": "code",
   "execution_count": 5,
   "id": "0296a995",
   "metadata": {},
   "outputs": [
    {
     "data": {
      "text/plain": [
       "((90, 2), (90,), (10, 2), (10,))"
      ]
     },
     "execution_count": 5,
     "metadata": {},
     "output_type": "execute_result"
    }
   ],
   "source": [
    "x_train.shape,y_train.shape,x_test.shape,y_test.shape"
   ]
  },
  {
   "cell_type": "code",
   "execution_count": 6,
   "id": "7b152d6d",
   "metadata": {},
   "outputs": [],
   "source": [
    "def KNN_Regression(x_train,y_train,x_test,y_test,K):\n",
    "    result=[]\n",
    "    for i in range(len(y_test)):\n",
    "        a,b,c = x_test[i][0],x_test[i][1],y_test[i]\n",
    "        dist =[]\n",
    "        for j in range(len(y_train)):\n",
    "            d,e,f = x_train[j][0],x_train[j][1],y_train[j]\n",
    "            dist.append([np.sqrt((d-a)**2+(e-b)**2+(f-c)**2),j,y_train[j]])\n",
    "        dist.sort()\n",
    "        k_entries = dist[:K]\n",
    "        k_entries_label=[]\n",
    "        for j in range(K):\n",
    "            k_entries_label.append(dist[j][2])\n",
    "        \n",
    "        result.append(np.mean(k_entries_label))\n",
    "    return np.array(result)"
   ]
  },
  {
   "cell_type": "code",
   "execution_count": 7,
   "id": "26b4230f",
   "metadata": {},
   "outputs": [],
   "source": [
    "result = KNN_Regression(x_train,y_train,x_test,y_test,3)"
   ]
  },
  {
   "cell_type": "code",
   "execution_count": 8,
   "id": "fab3ed24",
   "metadata": {},
   "outputs": [],
   "source": [
    "def accuracy(result,y_test):\n",
    "    for i in range(len(result)):\n",
    "        result[i]=np.ceil(result[i])\n",
    "    cnt=0\n",
    "    for i in range(len(result)):\n",
    "        if(result[i]==y_test[i]):\n",
    "            cnt+=1\n",
    "    return cnt/len(result)*100"
   ]
  },
  {
   "cell_type": "code",
   "execution_count": 9,
   "id": "aea98d0d",
   "metadata": {},
   "outputs": [
    {
     "name": "stdout",
     "output_type": "stream",
     "text": [
      "Accuracy 100.0\n"
     ]
    }
   ],
   "source": [
    "print('Accuracy',accuracy(result,y_test))"
   ]
  },
  {
   "cell_type": "code",
   "execution_count": 10,
   "id": "0028acfa",
   "metadata": {},
   "outputs": [],
   "source": [
    "def mode(arr):\n",
    "    count_0=0\n",
    "    count_1=0\n",
    "    #print(arr)\n",
    "    for i in range(len(arr)):\n",
    "        if(arr[i]==0):\n",
    "            count_0+=1\n",
    "        else:\n",
    "            count_1+=1\n",
    "    if(count_0>count_1):\n",
    "        return 0\n",
    "    return 1"
   ]
  },
  {
   "cell_type": "code",
   "execution_count": 11,
   "id": "c6793ffc",
   "metadata": {},
   "outputs": [],
   "source": [
    "def KNN_classification(x_train,y_train,x_test,y_test,K):\n",
    "    result=[]\n",
    "    for i in range(len(y_test)):\n",
    "        a,b,c = x_test[i][0],x_test[i][1],y_test[i]\n",
    "        dist =[]\n",
    "        for j in range(len(y_train)):\n",
    "            d,e,f = x_train[j][0],x_train[j][1],y_train[j]\n",
    "            dist.append([np.sqrt((d-a)**2+(e-b)**2+(f-c)**2),j,y_train[j]])\n",
    "        dist.sort()\n",
    "        k_entries = dist[:K]\n",
    "        k_entries_label=[]\n",
    "        for j in range(K):\n",
    "            k_entries_label.append(dist[j][2])\n",
    "        result.append(mode(k_entries_label))\n",
    "    return np.array(result)"
   ]
  },
  {
   "cell_type": "code",
   "execution_count": 12,
   "id": "00487d88",
   "metadata": {},
   "outputs": [],
   "source": [
    "result=KNN_classification(x_train,y_train,x_test,y_test,3)"
   ]
  },
  {
   "cell_type": "code",
   "execution_count": 13,
   "id": "9a5d4c3f",
   "metadata": {},
   "outputs": [
    {
     "name": "stdout",
     "output_type": "stream",
     "text": [
      "Accuracy 100.0\n"
     ]
    }
   ],
   "source": [
    "print('Accuracy',accuracy(result,y_test))"
   ]
  },
  {
   "cell_type": "code",
   "execution_count": null,
   "id": "eae36c4d",
   "metadata": {},
   "outputs": [],
   "source": []
  }
 ],
 "metadata": {
  "kernelspec": {
   "display_name": "Python 3 (ipykernel)",
   "language": "python",
   "name": "python3"
  },
  "language_info": {
   "codemirror_mode": {
    "name": "ipython",
    "version": 3
   },
   "file_extension": ".py",
   "mimetype": "text/x-python",
   "name": "python",
   "nbconvert_exporter": "python",
   "pygments_lexer": "ipython3",
   "version": "3.9.7"
  }
 },
 "nbformat": 4,
 "nbformat_minor": 5
}
